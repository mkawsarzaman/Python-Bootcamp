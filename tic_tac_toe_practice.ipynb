{
 "cells": [
  {
   "cell_type": "code",
   "execution_count": 9,
   "metadata": {},
   "outputs": [],
   "source": [
    "#A small game where a user can choose a position in an existing list and replace it with a value of their choice\n",
    "game_list = ['hi','no',2]\n",
    "position_list = ['0','1','2']\n",
    "from IPython.display import clear_output\n",
    "\n",
    "def display_gamelist (game_list):\n",
    "    print('These are the options:')\n",
    "    print(game_list)\n",
    "    print('corresponding positions are:')\n",
    "    print(position_list)\n",
    "    \n",
    "def choice():\n",
    "    \n",
    "    position = 'adkjadagyudgahjbajgja'\n",
    "    \n",
    "    while position not in position_list:\n",
    "        position = input('Choose a position among 0, 1 and 2 to replace:')\n",
    "        if position.isdigit() == False:\n",
    "            clear_output()\n",
    "            print ('wrong selection! Please select a position among 0, 1 and 2')\n",
    "    return int(position)\n",
    "\n",
    "def new_string():\n",
    "    replacement = input(f'Type the new string that you want to replace at the {selected_position}th position:')\n",
    "    game_list[selected_position] = replacement\n",
    "    return game_list\n",
    "\n",
    "def gameon_choice():\n",
    "    ichoice = 'aaafaefafAEadada'\n",
    "    while ichoice not in ['y','Y','n','N']:\n",
    "        ichoice = input(\"Would you like to continue playing?\")\n",
    "        if ichoice not in ['y','Y','n','N']:\n",
    "            print('Please select y or n')\n",
    "            \n",
    "    if ichoice in ['y','Y']:\n",
    "        return True\n",
    "    else:\n",
    "        return False"
   ]
  },
  {
   "cell_type": "code",
   "execution_count": 1,
   "metadata": {},
   "outputs": [],
   "source": [
    "#A small game where a user can choose a position in an existing list and replace it with a value of their choice\n",
    "game_list = ['hi','no',2]\n",
    "position_list = ['0','1','2']\n",
    "from IPython.display import clear_output"
   ]
  },
  {
   "cell_type": "code",
   "execution_count": 2,
   "metadata": {},
   "outputs": [],
   "source": [
    "def display_gamelist (game_list):\n",
    "    print('These are the options:')\n",
    "    print(game_list)\n",
    "    print('corresponding positions are:')\n",
    "    print(position_list)"
   ]
  },
  {
   "cell_type": "code",
   "execution_count": 3,
   "metadata": {},
   "outputs": [
    {
     "name": "stdout",
     "output_type": "stream",
     "text": [
      "These are the options:\n",
      "['hi', 'no', 2]\n",
      "corresponding positions are:\n",
      "['0', '1', '2']\n"
     ]
    }
   ],
   "source": [
    "display_gamelist(game_list)"
   ]
  },
  {
   "cell_type": "code",
   "execution_count": 4,
   "metadata": {},
   "outputs": [],
   "source": [
    "def choice():\n",
    "    \n",
    "    position = 'adkjadagyudgahjbajgja'\n",
    "    \n",
    "    while position not in position_list:\n",
    "        position = input('Choose a position among 0, 1 and 2 to replace:')\n",
    "        if position.isdigit() == False:\n",
    "            clear_output()\n",
    "            print ('wrong selection! Please select a position among 0, 1 and 2')\n",
    "    return int(position)"
   ]
  },
  {
   "cell_type": "code",
   "execution_count": 5,
   "metadata": {},
   "outputs": [
    {
     "name": "stdout",
     "output_type": "stream",
     "text": [
      "Choose a position among 0, 1 and 2 to replace:2\n"
     ]
    }
   ],
   "source": [
    "selected_position = choice()"
   ]
  },
  {
   "cell_type": "code",
   "execution_count": 6,
   "metadata": {},
   "outputs": [],
   "source": [
    "def new_string():\n",
    "    replacement = input(f'Type the new string that you want to replace at the {selected_position}th position:')\n",
    "    game_list[selected_position] = replacement\n",
    "    return game_list"
   ]
  },
  {
   "cell_type": "code",
   "execution_count": 7,
   "metadata": {},
   "outputs": [
    {
     "name": "stdout",
     "output_type": "stream",
     "text": [
      "Type the new string that you want to replace at the 2th position:jabba\n"
     ]
    }
   ],
   "source": [
    "s = new_string()"
   ]
  },
  {
   "cell_type": "code",
   "execution_count": 8,
   "metadata": {},
   "outputs": [
    {
     "data": {
      "text/plain": [
       "['hi', 'no', 'jabba']"
      ]
     },
     "execution_count": 8,
     "metadata": {},
     "output_type": "execute_result"
    }
   ],
   "source": [
    "s"
   ]
  },
  {
   "cell_type": "code",
   "execution_count": null,
   "metadata": {},
   "outputs": [],
   "source": []
  }
 ],
 "metadata": {
  "kernelspec": {
   "display_name": "Python 3",
   "language": "python",
   "name": "python3"
  },
  "language_info": {
   "codemirror_mode": {
    "name": "ipython",
    "version": 3
   },
   "file_extension": ".py",
   "mimetype": "text/x-python",
   "name": "python",
   "nbconvert_exporter": "python",
   "pygments_lexer": "ipython3",
   "version": "3.8.5"
  }
 },
 "nbformat": 4,
 "nbformat_minor": 4
}
